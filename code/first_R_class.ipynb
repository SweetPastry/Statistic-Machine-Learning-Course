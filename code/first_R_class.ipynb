{
 "cells": [
  {
   "cell_type": "markdown",
   "metadata": {},
   "source": [
    "# getting staRted in R: First Steps"
   ]
  },
  {
   "cell_type": "markdown",
   "metadata": {},
   "source": [
    "## `print()` function"
   ]
  },
  {
   "cell_type": "code",
   "execution_count": 35,
   "metadata": {
    "vscode": {
     "languageId": "r"
    }
   },
   "outputs": [
    {
     "name": "stdout",
     "output_type": "stream",
     "text": [
      "[1] \"Hello World!\"\n"
     ]
    }
   ],
   "source": [
    "# just like in Python\n",
    "print(\"Hello World!\")"
   ]
  },
  {
   "cell_type": "code",
   "execution_count": 36,
   "metadata": {
    "vscode": {
     "languageId": "r"
    }
   },
   "outputs": [
    {
     "name": "stdout",
     "output_type": "stream",
     "text": [
      "print                   package:base                   R Documentation\n",
      "\n",
      "_\bP_\br_\bi_\bn_\bt _\bV_\ba_\bl_\bu_\be_\bs\n",
      "\n",
      "_\bD_\be_\bs_\bc_\br_\bi_\bp_\bt_\bi_\bo_\bn:\n",
      "\n",
      "     'print' prints its argument and returns it _invisibly_ (via\n",
      "     'invisible(x)').  It is a generic function which means that new\n",
      "     printing methods can be easily added for new 'class'es.\n",
      "\n",
      "_\bU_\bs_\ba_\bg_\be:\n",
      "\n",
      "     print(x, ...)\n",
      "     \n",
      "     ## S3 method for class 'factor'\n",
      "     print(x, quote = FALSE, max.levels = NULL,\n",
      "           width = getOption(\"width\"), ...)\n",
      "     \n",
      "     ## S3 method for class 'table'\n",
      "     print(x, digits = getOption(\"digits\"), quote = FALSE,\n",
      "           na.print = \"\", zero.print = \"0\",\n",
      "           right = is.numeric(x) || is.complex(x),\n",
      "           justify = \"none\", ...)\n",
      "     \n",
      "     ## S3 method for class 'function'\n",
      "     print(x, useSource = TRUE, ...)\n",
      "     \n",
      "_\bA_\br_\bg_\bu_\bm_\be_\bn_\bt_\bs:\n",
      "\n",
      "       x: an object used to select a method.\n",
      "\n",
      "     ...: further arguments passed to or from other methods.\n",
      "\n",
      "   quote: logical, indicating whether or not strings should be printed\n",
      "          with surrounding quotes.\n",
      "\n",
      "max.levels: integer, indicating how many levels should be printed for a\n",
      "          factor; if '0', no extra \"Levels\" line will be printed.  The\n",
      "          default, 'NULL', entails choosing 'max.levels' such that the\n",
      "          levels print on one line of width 'width'.\n",
      "\n",
      "   width: only used when 'max.levels' is NULL, see above.\n",
      "\n",
      "  digits: minimal number of _significant_ digits, see 'print.default'.\n",
      "\n",
      "na.print: character string (or 'NULL') indicating 'NA' values in\n",
      "          printed output, see 'print.default'.\n",
      "\n",
      "zero.print: character specifying how zeros ('0') should be printed; for\n",
      "          sparse tables, using '\".\"' can produce more readable results,\n",
      "          similar to printing sparse matrices in 'Matrix'.\n",
      "\n",
      "   right: logical, indicating whether or not strings should be right\n",
      "          aligned.\n",
      "\n",
      " justify: character indicating if strings should left- or\n",
      "          right-justified or left alone, passed to 'format'.\n",
      "\n",
      "useSource: logical indicating if internally stored source should be\n",
      "          used for printing when present, e.g., if 'options(keep.source\n",
      "          = TRUE)' has been in use.\n",
      "\n",
      "_\bD_\be_\bt_\ba_\bi_\bl_\bs:\n",
      "\n",
      "     The default method, 'print.default' has its own help page.  Use\n",
      "     'methods(\"print\")' to get all the methods for the 'print' generic.\n",
      "\n",
      "     'print.factor' allows some customization and is used for printing\n",
      "     'ordered' factors as well.\n",
      "\n",
      "     'print.table' for printing 'table's allows other customization.\n",
      "     As of R 3.0.0, it only prints a description in case of a table\n",
      "     with 0-extents (this can happen if a classifier has no valid\n",
      "     data).\n",
      "\n",
      "     See 'noquote' as an example of a class whose main purpose is a\n",
      "     specific 'print' method.\n",
      "\n",
      "_\bR_\be_\bf_\be_\br_\be_\bn_\bc_\be_\bs:\n",
      "\n",
      "     Chambers, J. M. and Hastie, T. J. (1992) _Statistical Models in\n",
      "     S._ Wadsworth & Brooks/Cole.\n",
      "\n",
      "_\bS_\be_\be _\bA_\bl_\bs_\bo:\n",
      "\n",
      "     The default method 'print.default', and help for the methods\n",
      "     above; further 'options', 'noquote'.\n",
      "\n",
      "     For more customizable (but cumbersome) printing, see 'cat',\n",
      "     'format' or also 'write'.  For a simple prototypical print method,\n",
      "     see '.print.via.format' in package 'tools'.\n",
      "\n",
      "_\bE_\bx_\ba_\bm_\bp_\bl_\be_\bs:\n",
      "\n",
      "     require(stats)\n",
      "     \n",
      "     ts(1:20)  #-- print is the \"Default function\" --> print.ts(.) is called\n",
      "     for(i in 1:3) print(1:i)\n",
      "     \n",
      "     ## Printing of factors\n",
      "     attenu$station ## 117 levels -> 'max.levels' depending on width\n",
      "     \n",
      "     ## ordered factors: levels  \"l1 < l2 < ..\"\n",
      "     esoph$agegp[1:12]\n",
      "     esoph$alcgp[1:12]\n",
      "     \n",
      "     ## Printing of sparse (contingency) tables\n",
      "     set.seed(521)\n",
      "     t1 <- round(abs(rt(200, df = 1.8)))\n",
      "     t2 <- round(abs(rt(200, df = 1.4)))\n",
      "     table(t1, t2) # simple\n",
      "     print(table(t1, t2), zero.print = \".\") # nicer to read\n",
      "     \n",
      "     ## same for non-integer \"table\":\n",
      "     T <- table(t2,t1)\n",
      "     T <- T * (1+round(rlnorm(length(T)))/4)\n",
      "     print(T, zero.print = \".\") # quite nicer,\n",
      "     print.table(T[,2:8] * 1e9, digits=3, zero.print = \".\")\n",
      "     ## still slightly inferior to  Matrix::Matrix(T)  for larger T\n",
      "     \n",
      "     ## Corner cases with empty extents:\n",
      "     table(1, NA) # < table of extent 1 x 0 >\n",
      "     "
     ]
    }
   ],
   "source": [
    "# this sentence will print out help-info\n",
    "?print()"
   ]
  },
  {
   "cell_type": "markdown",
   "metadata": {
    "vscode": {
     "languageId": "r"
    }
   },
   "source": [
    "## Variables"
   ]
  },
  {
   "cell_type": "code",
   "execution_count": 37,
   "metadata": {
    "vscode": {
     "languageId": "r"
    }
   },
   "outputs": [
    {
     "name": "stdout",
     "output_type": "stream",
     "text": [
      "[1] \"This is a sentence.\"\n",
      "[1] \"this is a sentence.\"\n"
     ]
    }
   ],
   "source": [
    "# in R, we store data in variables by using operator either '<-' or '='\n",
    "# capitalization does matter\n",
    "textToPrint <- \"This is a sentence.\"\n",
    "texttoprint = \"this is a sentence.\"\n",
    "\n",
    "print(textToPrint)\n",
    "print(texttoprint)"
   ]
  },
  {
   "cell_type": "markdown",
   "metadata": {
    "vscode": {
     "languageId": "r"
    }
   },
   "source": [
    "## `nchar()` and `c()` "
   ]
  },
  {
   "cell_type": "code",
   "execution_count": 38,
   "metadata": {
    "vscode": {
     "languageId": "r"
    }
   },
   "outputs": [
    {
     "data": {
      "text/html": [
       "19"
      ],
      "text/latex": [
       "19"
      ],
      "text/markdown": [
       "19"
      ],
      "text/plain": [
       "[1] 19"
      ]
     },
     "metadata": {},
     "output_type": "display_data"
    }
   ],
   "source": [
    "# nchar() counts how many characters in variable\n",
    "nchar(textToPrint)\n",
    "# blankspaces and punctuations are counted"
   ]
  },
  {
   "cell_type": "code",
   "execution_count": 39,
   "metadata": {
    "vscode": {
     "languageId": "r"
    }
   },
   "outputs": [
    {
     "data": {
      "text/html": [
       "<style>\n",
       ".list-inline {list-style: none; margin:0; padding: 0}\n",
       ".list-inline>li {display: inline-block}\n",
       ".list-inline>li:not(:last-child)::after {content: \"\\00b7\"; padding: 0 .5ex}\n",
       "</style>\n",
       "<ol class=list-inline><li>'This is a sentence.'</li><li>'this is a sentence.'</li></ol>\n"
      ],
      "text/latex": [
       "\\begin{enumerate*}\n",
       "\\item 'This is a sentence.'\n",
       "\\item 'this is a sentence.'\n",
       "\\end{enumerate*}\n"
      ],
      "text/markdown": [
       "1. 'This is a sentence.'\n",
       "2. 'this is a sentence.'\n",
       "\n",
       "\n"
      ],
      "text/plain": [
       "[1] \"This is a sentence.\" \"this is a sentence.\""
      ]
     },
     "metadata": {},
     "output_type": "display_data"
    }
   ],
   "source": [
    "# c() means concatenates\n",
    "c(textToPrint, texttoprint)"
   ]
  },
  {
   "cell_type": "markdown",
   "metadata": {},
   "source": [
    "## `str()`"
   ]
  },
  {
   "cell_type": "code",
   "execution_count": 40,
   "metadata": {
    "vscode": {
     "languageId": "r"
    }
   },
   "outputs": [
    {
     "name": "stdout",
     "output_type": "stream",
     "text": [
      " num 114514\n",
      " chr \"Hello\"\n",
      " chr \"A\"\n",
      " num 520\n"
     ]
    }
   ],
   "source": [
    "# ATTENTION! In R, str() is DiFFERENT with in Python!\n",
    "# in R, str() means structure, to check the type of variable\n",
    "str(114514); str(\"Hello\"); str('A'); str(520.1314)\n",
    "# what are distinguished in C/C++ like double, int, String, char are not needed to be distinguished now."
   ]
  },
  {
   "cell_type": "markdown",
   "metadata": {},
   "source": [
    "## `class()`"
   ]
  },
  {
   "cell_type": "code",
   "execution_count": 41,
   "metadata": {
    "vscode": {
     "languageId": "r"
    }
   },
   "outputs": [
    {
     "data": {
      "text/html": [
       "'numeric'"
      ],
      "text/latex": [
       "'numeric'"
      ],
      "text/markdown": [
       "'numeric'"
      ],
      "text/plain": [
       "[1] \"numeric\""
      ]
     },
     "metadata": {},
     "output_type": "display_data"
    }
   ],
   "source": [
    "# class() is used to check out which class-type the arguments belongs to\n",
    "class(114514)"
   ]
  },
  {
   "cell_type": "markdown",
   "metadata": {},
   "source": [
    "# "
   ]
  },
  {
   "cell_type": "markdown",
   "metadata": {
    "vscode": {
     "languageId": "r"
    }
   },
   "source": [
    "## `as.numeric(chr)`"
   ]
  },
  {
   "cell_type": "code",
   "execution_count": 42,
   "metadata": {
    "vscode": {
     "languageId": "r"
    }
   },
   "outputs": [
    {
     "name": "stdout",
     "output_type": "stream",
     "text": [
      "[1] 1 1 4 5 1 4\n"
     ]
    },
    {
     "data": {
      "text/html": [
       "'numeric'"
      ],
      "text/latex": [
       "'numeric'"
      ],
      "text/markdown": [
       "'numeric'"
      ],
      "text/plain": [
       "[1] \"numeric\""
      ]
     },
     "metadata": {},
     "output_type": "display_data"
    },
    {
     "name": "stdout",
     "output_type": "stream",
     "text": [
      "[1] 2 2 5 6 2 5\n",
      "[1]  2  2  8 10  2  8\n"
     ]
    }
   ],
   "source": [
    "# this is used to transform a number-char to number\n",
    "concatenated = as.numeric(c(\"1\", \"1\", \"4\", \"5\", \"1\", \"4\"))\n",
    "print(concatenated)\n",
    "class(concatenated)\n",
    "print(concatenated+1)\n",
    "print(concatenated*2)"
   ]
  },
  {
   "cell_type": "markdown",
   "metadata": {
    "vscode": {
     "languageId": "r"
    }
   },
   "source": [
    "# Getting staRted in R: Load Data Into R"
   ]
  },
  {
   "cell_type": "markdown",
   "metadata": {},
   "source": [
    "# `library()` and `tidyverse`"
   ]
  },
  {
   "cell_type": "code",
   "execution_count": 43,
   "metadata": {
    "vscode": {
     "languageId": "r"
    }
   },
   "outputs": [],
   "source": [
    "# use library() func to load an R package `tidyverse`\n",
    "library(tidyverse)"
   ]
  },
  {
   "cell_type": "code",
   "execution_count": 44,
   "metadata": {
    "vscode": {
     "languageId": "r"
    }
   },
   "outputs": [
    {
     "name": "stderr",
     "output_type": "stream",
     "text": [
      "\u001b[1mRows: \u001b[22m\u001b[34m4898\u001b[39m \u001b[1mColumns: \u001b[22m\u001b[34m1\u001b[39m\n",
      "\u001b[36m--\u001b[39m \u001b[1mColumn specification\u001b[22m \u001b[36m--------------------------------------------------------\u001b[39m\n",
      "\u001b[1mDelimiter:\u001b[22m \",\"\n",
      "\u001b[31mchr\u001b[39m (1): fixed acidity;volatile acidity;citric acid;residual sugar;chlorides...\n",
      "\n",
      "\u001b[36mi\u001b[39m Use `spec()` to retrieve the full column specification for this data.\n",
      "\u001b[36mi\u001b[39m Specify the column types or set `show_col_types = FALSE` to quiet this message.\n"
     ]
    }
   ],
   "source": [
    "# The read_csv() function is part of the `readr` package, which is included in the tidyverse ecosystem in R. It is used for reading CSV (Comma-Separated Values) files into R as a data frame.\n",
    "url <- \"https://archive.ics.uci.edu/ml/machine-learning-databases/wine-quality/winequality-white.csv\"\n",
    "# a set of wine dataset for mechine learning on Internet\n",
    "iris_data <- read_csv(url)"
   ]
  },
  {
   "cell_type": "code",
   "execution_count": 45,
   "metadata": {
    "vscode": {
     "languageId": "r"
    }
   },
   "outputs": [
    {
     "data": {
      "text/html": [
       "'fixed acidity;volatile acidity;citric acid;residual sugar;chlorides;free sulfur dioxide;total sulfur dioxide;density;pH;sulphates;alcohol;quality'"
      ],
      "text/latex": [
       "'fixed acidity;volatile acidity;citric acid;residual sugar;chlorides;free sulfur dioxide;total sulfur dioxide;density;pH;sulphates;alcohol;quality'"
      ],
      "text/markdown": [
       "'fixed acidity;volatile acidity;citric acid;residual sugar;chlorides;free sulfur dioxide;total sulfur dioxide;density;pH;sulphates;alcohol;quality'"
      ],
      "text/plain": [
       "[1] \"fixed acidity;volatile acidity;citric acid;residual sugar;chlorides;free sulfur dioxide;total sulfur dioxide;density;pH;sulphates;alcohol;quality\""
      ]
     },
     "metadata": {},
     "output_type": "display_data"
    }
   ],
   "source": [
    "# names() func is a basic func in R\n",
    "names(iris_data)"
   ]
  },
  {
   "cell_type": "code",
   "execution_count": 46,
   "metadata": {
    "vscode": {
     "languageId": "r"
    }
   },
   "outputs": [
    {
     "data": {
      "text/html": [
       "'fixed.acidity.volatile.acidity.citric.acid.residual.sugar.chlorides.free.sulfur.dioxide.total.sulfur.dioxide.density.pH.sulphates.alcohol.quality'"
      ],
      "text/latex": [
       "'fixed.acidity.volatile.acidity.citric.acid.residual.sugar.chlorides.free.sulfur.dioxide.total.sulfur.dioxide.density.pH.sulphates.alcohol.quality'"
      ],
      "text/markdown": [
       "'fixed.acidity.volatile.acidity.citric.acid.residual.sugar.chlorides.free.sulfur.dioxide.total.sulfur.dioxide.density.pH.sulphates.alcohol.quality'"
      ],
      "text/plain": [
       "[1] \"fixed.acidity.volatile.acidity.citric.acid.residual.sugar.chlorides.free.sulfur.dioxide.total.sulfur.dioxide.density.pH.sulphates.alcohol.quality\""
      ]
     },
     "metadata": {},
     "output_type": "display_data"
    }
   ],
   "source": [
    "# make.names() is alse a basic func in R. It will makes evey name in name-list become valid and even unique(alternative)\n",
    "names(iris_data) <- make.names(names(iris_data), unique=TRUE)\n",
    "names(iris_data)"
   ]
  },
  {
   "cell_type": "code",
   "execution_count": 47,
   "metadata": {
    "vscode": {
     "languageId": "r"
    }
   },
   "outputs": [
    {
     "data": {
      "text/html": [
       "<table class=\"dataframe\">\n",
       "<caption>A tibble: 6 x 1</caption>\n",
       "<thead>\n",
       "\t<tr><th scope=col>fixed.acidity.volatile.acidity.citric.acid.residual.sugar.chlorides.free.sulfur.dioxide.total.sulfur.dioxide.density.pH.sulphates.alcohol.quality</th></tr>\n",
       "\t<tr><th scope=col>&lt;chr&gt;</th></tr>\n",
       "</thead>\n",
       "<tbody>\n",
       "\t<tr><td>7;0.27;0.36;20.7;0.045;45;170;1.001;3;0.45;8.8;6    </td></tr>\n",
       "\t<tr><td>6.3;0.3;0.34;1.6;0.049;14;132;0.994;3.3;0.49;9.5;6  </td></tr>\n",
       "\t<tr><td>8.1;0.28;0.4;6.9;0.05;30;97;0.9951;3.26;0.44;10.1;6 </td></tr>\n",
       "\t<tr><td>7.2;0.23;0.32;8.5;0.058;47;186;0.9956;3.19;0.4;9.9;6</td></tr>\n",
       "\t<tr><td>7.2;0.23;0.32;8.5;0.058;47;186;0.9956;3.19;0.4;9.9;6</td></tr>\n",
       "\t<tr><td>8.1;0.28;0.4;6.9;0.05;30;97;0.9951;3.26;0.44;10.1;6 </td></tr>\n",
       "</tbody>\n",
       "</table>\n"
      ],
      "text/latex": [
       "A tibble: 6 x 1\n",
       "\\begin{tabular}{l}\n",
       " fixed.acidity.volatile.acidity.citric.acid.residual.sugar.chlorides.free.sulfur.dioxide.total.sulfur.dioxide.density.pH.sulphates.alcohol.quality\\\\\n",
       " <chr>\\\\\n",
       "\\hline\n",
       "\t 7;0.27;0.36;20.7;0.045;45;170;1.001;3;0.45;8.8;6    \\\\\n",
       "\t 6.3;0.3;0.34;1.6;0.049;14;132;0.994;3.3;0.49;9.5;6  \\\\\n",
       "\t 8.1;0.28;0.4;6.9;0.05;30;97;0.9951;3.26;0.44;10.1;6 \\\\\n",
       "\t 7.2;0.23;0.32;8.5;0.058;47;186;0.9956;3.19;0.4;9.9;6\\\\\n",
       "\t 7.2;0.23;0.32;8.5;0.058;47;186;0.9956;3.19;0.4;9.9;6\\\\\n",
       "\t 8.1;0.28;0.4;6.9;0.05;30;97;0.9951;3.26;0.44;10.1;6 \\\\\n",
       "\\end{tabular}\n"
      ],
      "text/markdown": [
       "\n",
       "A tibble: 6 x 1\n",
       "\n",
       "| fixed.acidity.volatile.acidity.citric.acid.residual.sugar.chlorides.free.sulfur.dioxide.total.sulfur.dioxide.density.pH.sulphates.alcohol.quality &lt;chr&gt; |\n",
       "|---|\n",
       "| 7;0.27;0.36;20.7;0.045;45;170;1.001;3;0.45;8.8;6     |\n",
       "| 6.3;0.3;0.34;1.6;0.049;14;132;0.994;3.3;0.49;9.5;6   |\n",
       "| 8.1;0.28;0.4;6.9;0.05;30;97;0.9951;3.26;0.44;10.1;6  |\n",
       "| 7.2;0.23;0.32;8.5;0.058;47;186;0.9956;3.19;0.4;9.9;6 |\n",
       "| 7.2;0.23;0.32;8.5;0.058;47;186;0.9956;3.19;0.4;9.9;6 |\n",
       "| 8.1;0.28;0.4;6.9;0.05;30;97;0.9951;3.26;0.44;10.1;6  |\n",
       "\n"
      ],
      "text/plain": [
       "  fixed.acidity.volatile.acidity.citric.acid.residual.sugar.chlorides.free.sulfur.dioxide.total.sulfur.dioxide.density.pH.sulphates.alcohol.quality\n",
       "1 7;0.27;0.36;20.7;0.045;45;170;1.001;3;0.45;8.8;6                                                                                                 \n",
       "2 6.3;0.3;0.34;1.6;0.049;14;132;0.994;3.3;0.49;9.5;6                                                                                               \n",
       "3 8.1;0.28;0.4;6.9;0.05;30;97;0.9951;3.26;0.44;10.1;6                                                                                              \n",
       "4 7.2;0.23;0.32;8.5;0.058;47;186;0.9956;3.19;0.4;9.9;6                                                                                             \n",
       "5 7.2;0.23;0.32;8.5;0.058;47;186;0.9956;3.19;0.4;9.9;6                                                                                             \n",
       "6 8.1;0.28;0.4;6.9;0.05;30;97;0.9951;3.26;0.44;10.1;6                                                                                              "
      ]
     },
     "metadata": {},
     "output_type": "display_data"
    }
   ],
   "source": [
    "# the head() func reads the first line of data\n",
    "head(iris_data)"
   ]
  },
  {
   "cell_type": "code",
   "execution_count": 48,
   "metadata": {
    "vscode": {
     "languageId": "r"
    }
   },
   "outputs": [
    {
     "data": {
      "text/html": [
       "<table class=\"dataframe\">\n",
       "<caption>A tibble: 3 x 1</caption>\n",
       "<thead>\n",
       "\t<tr><th scope=col>fixed.acidity.volatile.acidity.citric.acid.residual.sugar.chlorides.free.sulfur.dioxide.total.sulfur.dioxide.density.pH.sulphates.alcohol.quality</th></tr>\n",
       "\t<tr><th scope=col>&lt;chr&gt;</th></tr>\n",
       "</thead>\n",
       "<tbody>\n",
       "\t<tr><td>6.5;0.24;0.19;1.2;0.041;30;111;0.99254;2.99;0.46;9.4;6</td></tr>\n",
       "\t<tr><td>5.5;0.29;0.3;1.1;0.022;20;110;0.98869;3.34;0.38;12.8;7</td></tr>\n",
       "\t<tr><td>6;0.21;0.38;0.8;0.02;22;98;0.98941;3.26;0.32;11.8;6   </td></tr>\n",
       "</tbody>\n",
       "</table>\n"
      ],
      "text/latex": [
       "A tibble: 3 x 1\n",
       "\\begin{tabular}{l}\n",
       " fixed.acidity.volatile.acidity.citric.acid.residual.sugar.chlorides.free.sulfur.dioxide.total.sulfur.dioxide.density.pH.sulphates.alcohol.quality\\\\\n",
       " <chr>\\\\\n",
       "\\hline\n",
       "\t 6.5;0.24;0.19;1.2;0.041;30;111;0.99254;2.99;0.46;9.4;6\\\\\n",
       "\t 5.5;0.29;0.3;1.1;0.022;20;110;0.98869;3.34;0.38;12.8;7\\\\\n",
       "\t 6;0.21;0.38;0.8;0.02;22;98;0.98941;3.26;0.32;11.8;6   \\\\\n",
       "\\end{tabular}\n"
      ],
      "text/markdown": [
       "\n",
       "A tibble: 3 x 1\n",
       "\n",
       "| fixed.acidity.volatile.acidity.citric.acid.residual.sugar.chlorides.free.sulfur.dioxide.total.sulfur.dioxide.density.pH.sulphates.alcohol.quality &lt;chr&gt; |\n",
       "|---|\n",
       "| 6.5;0.24;0.19;1.2;0.041;30;111;0.99254;2.99;0.46;9.4;6 |\n",
       "| 5.5;0.29;0.3;1.1;0.022;20;110;0.98869;3.34;0.38;12.8;7 |\n",
       "| 6;0.21;0.38;0.8;0.02;22;98;0.98941;3.26;0.32;11.8;6    |\n",
       "\n"
      ],
      "text/plain": [
       "  fixed.acidity.volatile.acidity.citric.acid.residual.sugar.chlorides.free.sulfur.dioxide.total.sulfur.dioxide.density.pH.sulphates.alcohol.quality\n",
       "1 6.5;0.24;0.19;1.2;0.041;30;111;0.99254;2.99;0.46;9.4;6                                                                                           \n",
       "2 5.5;0.29;0.3;1.1;0.022;20;110;0.98869;3.34;0.38;12.8;7                                                                                           \n",
       "3 6;0.21;0.38;0.8;0.02;22;98;0.98941;3.26;0.32;11.8;6                                                                                              "
      ]
     },
     "metadata": {},
     "output_type": "display_data"
    }
   ],
   "source": [
    "# the tail() function reads in the just the last few lines of a file.\n",
    "# we can also give both functions a specific number of lines to read.\n",
    "# This line will read in the last three lines of \"chocolateData\".\n",
    "tail(iris_data, 3)"
   ]
  },
  {
   "cell_type": "code",
   "execution_count": null,
   "metadata": {
    "vscode": {
     "languageId": "r"
    }
   },
   "outputs": [],
   "source": []
  }
 ],
 "metadata": {
  "kernelspec": {
   "display_name": "R",
   "language": "R",
   "name": "ir"
  },
  "language_info": {
   "codemirror_mode": "r",
   "file_extension": ".r",
   "mimetype": "text/x-r-source",
   "name": "R",
   "pygments_lexer": "r",
   "version": "4.4.1"
  }
 },
 "nbformat": 4,
 "nbformat_minor": 2
}
